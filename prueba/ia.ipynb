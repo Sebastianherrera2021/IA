{
 "cells": [
  {
   "cell_type": "markdown",
   "id": "09f00ee3-c61d-4681-967f-007f51ae3915",
   "metadata": {},
   "source": [
    "# Curso de inteligencia artificial y machine learning con python desde cero INIT"
   ]
  },
  {
   "cell_type": "markdown",
   "id": "af50ecdb-d1ca-48d1-9dcb-db0caef1ec83",
   "metadata": {},
   "source": [
    "### Inteligencia artificial:\n",
    "Simulacion de un comportamiento inteligente en las maquinas, es hacer que las computadores puedan aprender y tomen decisiones para lograr un objetivo."
   ]
  },
  {
   "cell_type": "markdown",
   "id": "6bf46010-353b-4131-811d-3c0bb68db164",
   "metadata": {},
   "source": [
    "IA DEBIL: Una tarea en concreto como siri que tiene una base de datos inmensa.\n",
    "\n",
    "IA FUERTE: Ciencia ficcion que es capaz de adaptarse muy rapido.\n",
    "\n",
    "Futuro: Se basa en conocer mas a los usuarios y aprender de ellos y seguir automatizando procesos. Permite crecimiento y conocer el nuevo mercado."
   ]
  },
  {
   "cell_type": "markdown",
   "id": "9a3fc4e1-2588-45df-a514-b56643149f93",
   "metadata": {},
   "source": [
    "## Disciplinas:\n",
    "Agentes virtuales\n",
    "Aprendizaje automatico\n",
    "Robotica\n",
    "Procesamiento de lenguaje natural\n",
    "Aprendizaje reforzado\n",
    "vision de computadoras\n",
    "Aprendizaje profundo"
   ]
  },
  {
   "cell_type": "markdown",
   "id": "ebb58cbc-c7b5-4b4e-9e69-57e63dc666b9",
   "metadata": {},
   "source": [
    "### Aprendizaje automatico o machine learning"
   ]
  },
  {
   "cell_type": "markdown",
   "id": "4abbfce4-0c6c-4fff-aeee-9f063173c2f9",
   "metadata": {},
   "source": [
    "Capacidad de un algoritmo de adquirir conocimiento a partir de observaciones y las reglas resultantes pueden ser aplicadas posteriormente a nuevos datos y asignarle una etiqueta de acuerdo a lo aprendido."
   ]
  },
  {
   "cell_type": "markdown",
   "id": "236faf97-c587-49c7-bb68-eb34d140d608",
   "metadata": {},
   "source": [
    "#### Algoritmos mas utilizados:\n",
    "Regresion lineal\n",
    "Arboles de decision\n",
    "Bayesianos\n",
    "Agrupacion o clustering"
   ]
  },
  {
   "cell_type": "markdown",
   "id": "2b3adac9-54cd-4faf-838f-30a201e77a32",
   "metadata": {},
   "source": [
    "### Procesamiento de lenguaje natural"
   ]
  },
  {
   "cell_type": "markdown",
   "id": "fa071f6a-7406-49d8-a84d-66c4ba3a4949",
   "metadata": {},
   "source": [
    "Los sistemas perciben y comprenden el lenguaje humano hablado \"reconocimiento voz, analisis de sentimiento, traduccion automatica, chatbots que interactuan con los humanos, recuperacion de informacion, filtrar correos entre los deseados y no deseados dependiendo del cuerpo del asunto\""
   ]
  },
  {
   "cell_type": "markdown",
   "id": "ec53b377-44d3-4fae-aed9-38e3e055fe2c",
   "metadata": {},
   "source": [
    "### Robotica"
   ]
  },
  {
   "cell_type": "markdown",
   "id": "6cdcffad-03ba-4a6b-a9ac-81b9ce38a38c",
   "metadata": {},
   "source": [
    "Estudia el analisis, diseño, manufactura y aplicacion de maquinas que resuelvan tareas especificas con cierto grado de inteligencia."
   ]
  },
  {
   "cell_type": "markdown",
   "id": "c35ea2d1-a26b-4171-8bfc-0a9d7857a6ff",
   "metadata": {},
   "source": [
    "### Vision de computadoras"
   ]
  },
  {
   "cell_type": "markdown",
   "id": "9da133ae-3f63-4ac1-9ce9-22f8985fa2ff",
   "metadata": {},
   "source": [
    "Su objetivo es proporcionar vision humana a los sistemas informaticos"
   ]
  },
  {
   "cell_type": "markdown",
   "id": "ac4b1f67-d273-4c92-be90-10445cd3844e",
   "metadata": {},
   "source": [
    "Ej: procesamiento de imagenes, realidad aumentada, reconocimiento facil, de movimiento, biometrica."
   ]
  },
  {
   "cell_type": "markdown",
   "id": "b640b11f-45e0-4e7d-85dd-7b6fd9b81c5f",
   "metadata": {},
   "source": [
    "### Deep learning o aprendizaje profundo"
   ]
  },
  {
   "cell_type": "markdown",
   "id": "f2ac1c21-1752-4cd3-9700-3e8fb50717df",
   "metadata": {},
   "source": [
    "Su objetivo es estudiar y construir sistemas de computo capaces de aprender a partir de la experiencia"
   ]
  },
  {
   "cell_type": "markdown",
   "id": "ac6c614c-be37-4b02-92a0-1260319dc9f4",
   "metadata": {},
   "source": [
    "Redes neuronales para reconocimiento de voz, debe ser entrenado a partir de ejemplos conocido. Ademas tiene una estructura jerarquica que extrae niveles de detalles de los datos, ej: primero extraemos los bordes, el tamaño y asi determinar el objeto de lo que esta viendo. Al final se obtiene un porcentaje o probabilidad de acierto de ese aprendizaje."
   ]
  },
  {
   "cell_type": "markdown",
   "id": "61bae3d0-e069-4357-b7bb-df104bb2b9d7",
   "metadata": {},
   "source": [
    "### Aprendizaje reforzado"
   ]
  },
  {
   "cell_type": "markdown",
   "id": "78204d41-a96c-46e2-9d23-d392b34284d1",
   "metadata": {},
   "source": [
    "Busca optimizar el resultado de un problema por medio de pueba y error."
   ]
  },
  {
   "cell_type": "markdown",
   "id": "a9391568-99e1-4075-9d38-9f6e641430f2",
   "metadata": {},
   "source": [
    "Una entidad realiza una accion, si lo hace bien recibe una recompensa, y si lo esta haciendo mal recibe una penalizacion. La entidad conoce su entorno a medida que acunula recompensas y finaliza cuando la entidad encuentra la secuencia de acciones que le han generado mayor recompensa acumulada."
   ]
  },
  {
   "cell_type": "markdown",
   "id": "ae5d3808-5855-4cc4-b926-fe7a7aa22805",
   "metadata": {},
   "source": [
    "### Agentes virtuales"
   ]
  },
  {
   "cell_type": "markdown",
   "id": "64be1dbe-df7d-4b70-b5bc-82a6ee6955fc",
   "metadata": {},
   "source": [
    "Son entidades capaces de percibir su entorno y procesar las percepciones para responder o actuar de una manera racional"
   ]
  },
  {
   "cell_type": "markdown",
   "id": "2437d7a3-d256-40bb-9e39-a1198a2c18e5",
   "metadata": {},
   "source": [
    "Interactua con usuarios y facilita tareas monotonas, como alexa y google, definimos tareas y solucionan una tarea determinada, tambien se le puede enseñar a manejar ajedrez"
   ]
  },
  {
   "cell_type": "markdown",
   "id": "f48f9baa-c29b-4a56-a718-e0ca3418b037",
   "metadata": {},
   "source": [
    "## Mineria de datos"
   ]
  },
  {
   "cell_type": "markdown",
   "id": "79db9a3d-8760-4955-9361-52efe64d38b1",
   "metadata": {},
   "source": [
    "Generacion masiva de datos que son almacenados en una base de datos o pueden ser obtenidos a traves de una API."
   ]
  },
  {
   "cell_type": "markdown",
   "id": "8454d44b-21a7-4067-83a9-6d770796bff5",
   "metadata": {},
   "source": [
    "Esta es una etapa de analisis de \"Knowledge discovery in databases\" (KDD). Es el proceso que intenta descubrir patrones en grandes volumenes de conjuntos de datos."
   ]
  },
  {
   "cell_type": "markdown",
   "id": "926afec3-8316-4063-b706-6787d62e7fe1",
   "metadata": {},
   "source": [
    "Tecnicas adecuadas para identificar tendencias ante la toma de decisiones, ejemplos son: saber cual es el interes musical de un usuario, que tipo de anuncios pueden llegar a ser de interes, saber si un medicamento es efectivo. Lo importante es tener la informacion y una pregunta a responder. Ejemplo: cuales son los productos que se venden mas y en que temporada del año."
   ]
  },
  {
   "cell_type": "markdown",
   "id": "b94f2482-94c6-44a8-bed3-70d165e54b28",
   "metadata": {},
   "source": [
    "### ¿ Como funciona ?"
   ]
  },
  {
   "cell_type": "markdown",
   "id": "85314687-41f1-4643-bf5e-dfaf5badbf20",
   "metadata": {},
   "source": [
    "Analisis del problema -> analisis de datos -> perparacion de datos -> modelado -> evaluacion -> implementacion"
   ]
  },
  {
   "cell_type": "markdown",
   "id": "7832c1fd-5722-4ed0-8593-81177a217436",
   "metadata": {},
   "source": [
    "Ejemplo taqueria:\n",
    "1. Revision de los objetivos para delimitar los alcances y lo que queremos hacer.\n",
    "que dia y a que hora vende mas y encontrar algun factor adicional que incremente sus ventas.\n",
    "2. Contacto directo con el problema, se recolectan, se identifica la calidad y evaluar su tendencia o consistencia.\n",
    "Error de dedo en los datos o campos nulos que pueden ocasionar ruido.\n",
    "3. Seleccionar cuales son las variables y las muestras, se les aplicara una tecnica de mineria de datos. \n",
    "A veces se limpia de manera manual o con un script de python, es posible hacer cambios en el formato de la info. Ej: columna con fecha como no es, o les falta un numero, fase laboriosa.\n",
    "4. Seleccion de tecnicas apropiadas para el desarrollo del proyecto.\n",
    "Tecnica en funcion del problema, que dispongamos de los datos adecuados y que cumpla con requerimientos del problema. Clasificacion, prediccion..\n",
    "5. Revisar todo el proceso con resultados obtenidos, identificando posibles errores que nos lleven a la fase 4.\n",
    "No tenemos suficientes datos, variables no son las mas adecuadas, modelo no es el adecuado.\n",
    "6. Llevarlo a la practica, no todo se implementa, en ocasiones se documenta, resultado en manera grafico y comprensible.\n",
    "Valen las recomendaciones para en conjunto tener conclusiones."
   ]
  },
  {
   "cell_type": "markdown",
   "id": "956504b4-5d44-4926-9021-debea72cf044",
   "metadata": {},
   "source": [
    "## Parte practica:"
   ]
  },
  {
   "cell_type": "markdown",
   "id": "e5dfd762-85ea-4a5a-92cb-c1efca70f9d9",
   "metadata": {},
   "source": [
    "Repostorio: Machine learning repository UCI"
   ]
  },
  {
   "cell_type": "markdown",
   "id": "0288fc68-540f-422c-b549-7608d9f33da7",
   "metadata": {},
   "source": [
    "Ejemplo: Car evaluation data set"
   ]
  },
  {
   "cell_type": "markdown",
   "id": "0b38c5cf-9b15-4c2d-a841-b133b3387568",
   "metadata": {},
   "source": [
    "Inicialmente muestra caracteristicas basicas, abajo muestra info de atributos para ver las variables."
   ]
  },
  {
   "cell_type": "markdown",
   "id": "13fbde3e-c263-4e9b-8b00-187c83b5fc57",
   "metadata": {},
   "source": [
    "Nota: En data folder se baja la informacion y luego en car.data"
   ]
  },
  {
   "cell_type": "markdown",
   "id": "786c55b9-1abb-4dd0-bb39-4f4d6fcb40ab",
   "metadata": {},
   "source": [
    "## PRACTICA"
   ]
  },
  {
   "cell_type": "markdown",
   "id": "b52169a1-1f7f-4540-927c-a155b658df17",
   "metadata": {},
   "source": [
    "### Tutorial de pandas"
   ]
  },
  {
   "cell_type": "markdown",
   "id": "1d40402c-7474-49fd-8882-2e66e461b27e",
   "metadata": {},
   "source": [
    "### Biblioteca para la manipulacion de datos:"
   ]
  },
  {
   "cell_type": "code",
   "execution_count": 1,
   "id": "606a330c-daf9-46b5-957c-efed6ca0ccbe",
   "metadata": {},
   "outputs": [],
   "source": [
    "import pandas as pd\n",
    "import matplotlib.pyplot as plt"
   ]
  },
  {
   "cell_type": "code",
   "execution_count": 2,
   "id": "5965b18f-aea2-4325-a413-7712f9a5c3be",
   "metadata": {},
   "outputs": [],
   "source": [
    "data = pd.read_csv(\"car.data\",header= None) #no tiene una primera fila con nombres"
   ]
  },
  {
   "cell_type": "code",
   "execution_count": 3,
   "id": "31e24535-4439-48a5-af8f-d00a084e4d35",
   "metadata": {},
   "outputs": [],
   "source": [
    "data.columns = [\"price\",\"maintenance_cost\",\"Number_doors\",\"Capacity\",\"Size\",\"safety\",\"Decision\" ] ## se saca de la descripcion de los atributos"
   ]
  },
  {
   "cell_type": "code",
   "execution_count": 4,
   "id": "6d769fde-761c-4941-ba38-75accd6def8a",
   "metadata": {},
   "outputs": [
    {
     "data": {
      "text/html": [
       "<div>\n",
       "<style scoped>\n",
       "    .dataframe tbody tr th:only-of-type {\n",
       "        vertical-align: middle;\n",
       "    }\n",
       "\n",
       "    .dataframe tbody tr th {\n",
       "        vertical-align: top;\n",
       "    }\n",
       "\n",
       "    .dataframe thead th {\n",
       "        text-align: right;\n",
       "    }\n",
       "</style>\n",
       "<table border=\"1\" class=\"dataframe\">\n",
       "  <thead>\n",
       "    <tr style=\"text-align: right;\">\n",
       "      <th></th>\n",
       "      <th>price</th>\n",
       "      <th>maintenance_cost</th>\n",
       "      <th>Number_doors</th>\n",
       "      <th>Capacity</th>\n",
       "      <th>Size</th>\n",
       "      <th>safety</th>\n",
       "      <th>Decision</th>\n",
       "    </tr>\n",
       "  </thead>\n",
       "  <tbody>\n",
       "    <tr>\n",
       "      <th>0</th>\n",
       "      <td>vhigh</td>\n",
       "      <td>vhigh</td>\n",
       "      <td>2</td>\n",
       "      <td>2</td>\n",
       "      <td>small</td>\n",
       "      <td>low</td>\n",
       "      <td>unacc</td>\n",
       "    </tr>\n",
       "    <tr>\n",
       "      <th>1</th>\n",
       "      <td>vhigh</td>\n",
       "      <td>vhigh</td>\n",
       "      <td>2</td>\n",
       "      <td>2</td>\n",
       "      <td>small</td>\n",
       "      <td>med</td>\n",
       "      <td>unacc</td>\n",
       "    </tr>\n",
       "    <tr>\n",
       "      <th>2</th>\n",
       "      <td>vhigh</td>\n",
       "      <td>vhigh</td>\n",
       "      <td>2</td>\n",
       "      <td>2</td>\n",
       "      <td>small</td>\n",
       "      <td>high</td>\n",
       "      <td>unacc</td>\n",
       "    </tr>\n",
       "    <tr>\n",
       "      <th>3</th>\n",
       "      <td>vhigh</td>\n",
       "      <td>vhigh</td>\n",
       "      <td>2</td>\n",
       "      <td>2</td>\n",
       "      <td>med</td>\n",
       "      <td>low</td>\n",
       "      <td>unacc</td>\n",
       "    </tr>\n",
       "    <tr>\n",
       "      <th>4</th>\n",
       "      <td>vhigh</td>\n",
       "      <td>vhigh</td>\n",
       "      <td>2</td>\n",
       "      <td>2</td>\n",
       "      <td>med</td>\n",
       "      <td>med</td>\n",
       "      <td>unacc</td>\n",
       "    </tr>\n",
       "  </tbody>\n",
       "</table>\n",
       "</div>"
      ],
      "text/plain": [
       "   price maintenance_cost Number_doors Capacity   Size safety Decision\n",
       "0  vhigh            vhigh            2        2  small    low    unacc\n",
       "1  vhigh            vhigh            2        2  small    med    unacc\n",
       "2  vhigh            vhigh            2        2  small   high    unacc\n",
       "3  vhigh            vhigh            2        2    med    low    unacc\n",
       "4  vhigh            vhigh            2        2    med    med    unacc"
      ]
     },
     "execution_count": 4,
     "metadata": {},
     "output_type": "execute_result"
    }
   ],
   "source": [
    "data.head(5)"
   ]
  },
  {
   "cell_type": "code",
   "execution_count": 5,
   "id": "496824a9-64da-42d1-8bad-71d581b34c81",
   "metadata": {},
   "outputs": [
    {
     "data": {
      "text/html": [
       "<div>\n",
       "<style scoped>\n",
       "    .dataframe tbody tr th:only-of-type {\n",
       "        vertical-align: middle;\n",
       "    }\n",
       "\n",
       "    .dataframe tbody tr th {\n",
       "        vertical-align: top;\n",
       "    }\n",
       "\n",
       "    .dataframe thead th {\n",
       "        text-align: right;\n",
       "    }\n",
       "</style>\n",
       "<table border=\"1\" class=\"dataframe\">\n",
       "  <thead>\n",
       "    <tr style=\"text-align: right;\">\n",
       "      <th></th>\n",
       "      <th>price</th>\n",
       "      <th>maintenance_cost</th>\n",
       "      <th>Number_doors</th>\n",
       "      <th>Capacity</th>\n",
       "      <th>Size</th>\n",
       "      <th>safety</th>\n",
       "      <th>Decision</th>\n",
       "    </tr>\n",
       "  </thead>\n",
       "  <tbody>\n",
       "    <tr>\n",
       "      <th>869</th>\n",
       "      <td>med</td>\n",
       "      <td>vhigh</td>\n",
       "      <td>2</td>\n",
       "      <td>2</td>\n",
       "      <td>med</td>\n",
       "      <td>high</td>\n",
       "      <td>unacc</td>\n",
       "    </tr>\n",
       "    <tr>\n",
       "      <th>1421</th>\n",
       "      <td>low</td>\n",
       "      <td>high</td>\n",
       "      <td>2</td>\n",
       "      <td>4</td>\n",
       "      <td>big</td>\n",
       "      <td>high</td>\n",
       "      <td>vgood</td>\n",
       "    </tr>\n",
       "    <tr>\n",
       "      <th>409</th>\n",
       "      <td>vhigh</td>\n",
       "      <td>low</td>\n",
       "      <td>5more</td>\n",
       "      <td>2</td>\n",
       "      <td>med</td>\n",
       "      <td>med</td>\n",
       "      <td>unacc</td>\n",
       "    </tr>\n",
       "    <tr>\n",
       "      <th>30</th>\n",
       "      <td>vhigh</td>\n",
       "      <td>vhigh</td>\n",
       "      <td>3</td>\n",
       "      <td>2</td>\n",
       "      <td>med</td>\n",
       "      <td>low</td>\n",
       "      <td>unacc</td>\n",
       "    </tr>\n",
       "    <tr>\n",
       "      <th>433</th>\n",
       "      <td>high</td>\n",
       "      <td>vhigh</td>\n",
       "      <td>2</td>\n",
       "      <td>2</td>\n",
       "      <td>small</td>\n",
       "      <td>med</td>\n",
       "      <td>unacc</td>\n",
       "    </tr>\n",
       "  </tbody>\n",
       "</table>\n",
       "</div>"
      ],
      "text/plain": [
       "      price maintenance_cost Number_doors Capacity   Size safety Decision\n",
       "869     med            vhigh            2        2    med   high    unacc\n",
       "1421    low             high            2        4    big   high    vgood\n",
       "409   vhigh              low        5more        2    med    med    unacc\n",
       "30    vhigh            vhigh            3        2    med    low    unacc\n",
       "433    high            vhigh            2        2  small    med    unacc"
      ]
     },
     "execution_count": 5,
     "metadata": {},
     "output_type": "execute_result"
    }
   ],
   "source": [
    "data.sample(5) #conjunto aleatorio"
   ]
  },
  {
   "cell_type": "code",
   "execution_count": 6,
   "id": "79c36991-2925-4f46-bbc4-e2865d0c707d",
   "metadata": {},
   "outputs": [
    {
     "data": {
      "text/html": [
       "<div>\n",
       "<style scoped>\n",
       "    .dataframe tbody tr th:only-of-type {\n",
       "        vertical-align: middle;\n",
       "    }\n",
       "\n",
       "    .dataframe tbody tr th {\n",
       "        vertical-align: top;\n",
       "    }\n",
       "\n",
       "    .dataframe thead th {\n",
       "        text-align: right;\n",
       "    }\n",
       "</style>\n",
       "<table border=\"1\" class=\"dataframe\">\n",
       "  <thead>\n",
       "    <tr style=\"text-align: right;\">\n",
       "      <th></th>\n",
       "      <th>price</th>\n",
       "      <th>maintenance_cost</th>\n",
       "      <th>Number_doors</th>\n",
       "      <th>Capacity</th>\n",
       "      <th>Size</th>\n",
       "      <th>safety</th>\n",
       "      <th>Decision</th>\n",
       "    </tr>\n",
       "  </thead>\n",
       "  <tbody>\n",
       "    <tr>\n",
       "      <th>1723</th>\n",
       "      <td>low</td>\n",
       "      <td>low</td>\n",
       "      <td>5more</td>\n",
       "      <td>more</td>\n",
       "      <td>med</td>\n",
       "      <td>med</td>\n",
       "      <td>good</td>\n",
       "    </tr>\n",
       "    <tr>\n",
       "      <th>1724</th>\n",
       "      <td>low</td>\n",
       "      <td>low</td>\n",
       "      <td>5more</td>\n",
       "      <td>more</td>\n",
       "      <td>med</td>\n",
       "      <td>high</td>\n",
       "      <td>vgood</td>\n",
       "    </tr>\n",
       "    <tr>\n",
       "      <th>1725</th>\n",
       "      <td>low</td>\n",
       "      <td>low</td>\n",
       "      <td>5more</td>\n",
       "      <td>more</td>\n",
       "      <td>big</td>\n",
       "      <td>low</td>\n",
       "      <td>unacc</td>\n",
       "    </tr>\n",
       "    <tr>\n",
       "      <th>1726</th>\n",
       "      <td>low</td>\n",
       "      <td>low</td>\n",
       "      <td>5more</td>\n",
       "      <td>more</td>\n",
       "      <td>big</td>\n",
       "      <td>med</td>\n",
       "      <td>good</td>\n",
       "    </tr>\n",
       "    <tr>\n",
       "      <th>1727</th>\n",
       "      <td>low</td>\n",
       "      <td>low</td>\n",
       "      <td>5more</td>\n",
       "      <td>more</td>\n",
       "      <td>big</td>\n",
       "      <td>high</td>\n",
       "      <td>vgood</td>\n",
       "    </tr>\n",
       "  </tbody>\n",
       "</table>\n",
       "</div>"
      ],
      "text/plain": [
       "     price maintenance_cost Number_doors Capacity Size safety Decision\n",
       "1723   low              low        5more     more  med    med     good\n",
       "1724   low              low        5more     more  med   high    vgood\n",
       "1725   low              low        5more     more  big    low    unacc\n",
       "1726   low              low        5more     more  big    med     good\n",
       "1727   low              low        5more     more  big   high    vgood"
      ]
     },
     "execution_count": 6,
     "metadata": {},
     "output_type": "execute_result"
    }
   ],
   "source": [
    "data.tail(5)"
   ]
  },
  {
   "cell_type": "code",
   "execution_count": 7,
   "id": "dc13b200-0291-4c97-bdb4-58fb6f3977b9",
   "metadata": {},
   "outputs": [
    {
     "data": {
      "text/plain": [
       "(1728, 7)"
      ]
     },
     "execution_count": 7,
     "metadata": {},
     "output_type": "execute_result"
    }
   ],
   "source": [
    "data.shape #cantidad de atributos"
   ]
  },
  {
   "cell_type": "code",
   "execution_count": 8,
   "id": "a210dde2-7e78-4a8e-a144-676d7468610d",
   "metadata": {},
   "outputs": [
    {
     "data": {
      "text/plain": [
       "12096"
      ]
     },
     "execution_count": 8,
     "metadata": {},
     "output_type": "execute_result"
    }
   ],
   "source": [
    "data.size #filaxcol"
   ]
  },
  {
   "cell_type": "code",
   "execution_count": 9,
   "id": "74ff725c-1696-47cf-b26d-812cef6a996b",
   "metadata": {},
   "outputs": [
    {
     "data": {
      "text/plain": [
       "0    vhigh\n",
       "1    vhigh\n",
       "2    vhigh\n",
       "3    vhigh\n",
       "4    vhigh\n",
       "Name: price, dtype: object"
      ]
     },
     "execution_count": 9,
     "metadata": {},
     "output_type": "execute_result"
    }
   ],
   "source": [
    "data[\"price\"].head(5) #solo para una columna"
   ]
  },
  {
   "cell_type": "code",
   "execution_count": 10,
   "id": "5fdec55d-0f35-4779-bb44-575142a71929",
   "metadata": {},
   "outputs": [
    {
     "data": {
      "text/plain": [
       "0    vhigh\n",
       "1    vhigh\n",
       "2    vhigh\n",
       "Name: price, dtype: object"
      ]
     },
     "execution_count": 10,
     "metadata": {},
     "output_type": "execute_result"
    }
   ],
   "source": [
    "data[\"price\"][:3] #rango para obtener los primeros 3 atributos"
   ]
  },
  {
   "cell_type": "code",
   "execution_count": 11,
   "id": "8c9d47f2-328d-40ed-92fa-9b7530dc7351",
   "metadata": {},
   "outputs": [
    {
     "data": {
      "text/html": [
       "<div>\n",
       "<style scoped>\n",
       "    .dataframe tbody tr th:only-of-type {\n",
       "        vertical-align: middle;\n",
       "    }\n",
       "\n",
       "    .dataframe tbody tr th {\n",
       "        vertical-align: top;\n",
       "    }\n",
       "\n",
       "    .dataframe thead th {\n",
       "        text-align: right;\n",
       "    }\n",
       "</style>\n",
       "<table border=\"1\" class=\"dataframe\">\n",
       "  <thead>\n",
       "    <tr style=\"text-align: right;\">\n",
       "      <th></th>\n",
       "      <th>price</th>\n",
       "      <th>Decision</th>\n",
       "      <th>safety</th>\n",
       "    </tr>\n",
       "  </thead>\n",
       "  <tbody>\n",
       "    <tr>\n",
       "      <th>1723</th>\n",
       "      <td>low</td>\n",
       "      <td>good</td>\n",
       "      <td>med</td>\n",
       "    </tr>\n",
       "    <tr>\n",
       "      <th>1724</th>\n",
       "      <td>low</td>\n",
       "      <td>vgood</td>\n",
       "      <td>high</td>\n",
       "    </tr>\n",
       "    <tr>\n",
       "      <th>1725</th>\n",
       "      <td>low</td>\n",
       "      <td>unacc</td>\n",
       "      <td>low</td>\n",
       "    </tr>\n",
       "    <tr>\n",
       "      <th>1726</th>\n",
       "      <td>low</td>\n",
       "      <td>good</td>\n",
       "      <td>med</td>\n",
       "    </tr>\n",
       "    <tr>\n",
       "      <th>1727</th>\n",
       "      <td>low</td>\n",
       "      <td>vgood</td>\n",
       "      <td>high</td>\n",
       "    </tr>\n",
       "  </tbody>\n",
       "</table>\n",
       "</div>"
      ],
      "text/plain": [
       "     price Decision safety\n",
       "1723   low     good    med\n",
       "1724   low    vgood   high\n",
       "1725   low    unacc    low\n",
       "1726   low     good    med\n",
       "1727   low    vgood   high"
      ]
     },
     "execution_count": 11,
     "metadata": {},
     "output_type": "execute_result"
    }
   ],
   "source": [
    "data[[\"price\",\"Decision\",\"safety\"]].tail()"
   ]
  },
  {
   "cell_type": "code",
   "execution_count": 12,
   "id": "f4b1a14e-a242-4984-a1f0-a42994004fc6",
   "metadata": {},
   "outputs": [
    {
     "data": {
      "text/plain": [
       "unacc    1210\n",
       "acc       384\n",
       "good       69\n",
       "vgood      65\n",
       "Name: Decision, dtype: int64"
      ]
     },
     "execution_count": 12,
     "metadata": {},
     "output_type": "execute_result"
    }
   ],
   "source": [
    "## Ordenar serie, datos de una manera ascendente o descendente con agrupacion\n",
    "data[\"Decision\"].value_counts()"
   ]
  },
  {
   "cell_type": "code",
   "execution_count": 13,
   "id": "25d35660-2fe5-4ed5-bc82-7e40b8deabc1",
   "metadata": {},
   "outputs": [
    {
     "data": {
      "text/plain": [
       "acc       384\n",
       "good       69\n",
       "unacc    1210\n",
       "vgood      65\n",
       "Name: Decision, dtype: int64"
      ]
     },
     "execution_count": 13,
     "metadata": {},
     "output_type": "execute_result"
    }
   ],
   "source": [
    "data[\"Decision\"].value_counts().sort_index(ascending=True) #lo ordena por el nombre de la columna"
   ]
  },
  {
   "cell_type": "code",
   "execution_count": 14,
   "id": "0e5d9e01-2fcb-4596-b723-3c5e9610fe83",
   "metadata": {},
   "outputs": [],
   "source": [
    "decisionprueba=data[\"Decision\"].value_counts().sort_index(ascending=False) #lo ordena por el nombre de la columna de manera descendente"
   ]
  },
  {
   "cell_type": "code",
   "execution_count": 15,
   "id": "8b573eb6-0be0-4992-b186-3c85688b417a",
   "metadata": {},
   "outputs": [
    {
     "data": {
      "text/plain": [
       "vgood      65\n",
       "unacc    1210\n",
       "good       69\n",
       "acc       384\n",
       "Name: Decision, dtype: int64"
      ]
     },
     "execution_count": 15,
     "metadata": {},
     "output_type": "execute_result"
    }
   ],
   "source": [
    "decisionprueba"
   ]
  },
  {
   "cell_type": "code",
   "execution_count": 16,
   "id": "74c287e9-1264-4d68-bac0-6d846535690d",
   "metadata": {},
   "outputs": [
    {
     "data": {
      "text/plain": [
       "<Axes: >"
      ]
     },
     "execution_count": 16,
     "metadata": {},
     "output_type": "execute_result"
    },
    {
     "data": {
      "image/png": "[encoded data removed]",
      "text/plain": [
       "<Figure size 640x480 with 1 Axes>"
      ]
     },
     "metadata": {},
     "output_type": "display_data"
    }
   ],
   "source": [
    "decisionprueba.plot(kind=\"bar\")"
   ]
  },
  {
   "cell_type": "code",
   "execution_count": 17,
   "id": "fa460dc0-d3b2-4008-acc1-7802c5c01ee9",
   "metadata": {},
   "outputs": [
    {
     "data": {
      "text/plain": [
       "array(['vhigh', 'high', 'med', 'low'], dtype=object)"
      ]
     },
     "execution_count": 17,
     "metadata": {},
     "output_type": "execute_result"
    }
   ],
   "source": [
    "## Datos que tiene \n",
    "data[\"price\"].unique()"
   ]
  },
  {
   "cell_type": "code",
   "execution_count": 18,
   "id": "1795d631-c99d-45f0-9801-f72b953e2179",
   "metadata": {},
   "outputs": [],
   "source": [
    "## para convertir a numerico:\n",
    "data[\"price\"].replace((\"vhigh\",\"high\",\"med\",\"low\"),(4,3,2,1),inplace=True)"
   ]
  },
  {
   "cell_type": "code",
   "execution_count": 19,
   "id": "dda533d0-ff02-4b35-9042-d87fd02d03be",
   "metadata": {},
   "outputs": [
    {
     "data": {
      "text/plain": [
       "array([4, 3, 2, 1], dtype=int64)"
      ]
     },
     "execution_count": 19,
     "metadata": {},
     "output_type": "execute_result"
    }
   ],
   "source": [
    "data[\"price\"].unique()"
   ]
  },
  {
   "cell_type": "code",
   "execution_count": 20,
   "id": "f699d9e1-cbb4-4abc-b384-1a9dacfa053a",
   "metadata": {},
   "outputs": [
    {
     "data": {
      "text/plain": [
       "0    4\n",
       "1    4\n",
       "2    4\n",
       "3    4\n",
       "4    4\n",
       "Name: price, dtype: int64"
      ]
     },
     "execution_count": 20,
     "metadata": {},
     "output_type": "execute_result"
    }
   ],
   "source": [
    "data[\"price\"].head()"
   ]
  },
  {
   "cell_type": "code",
   "execution_count": 21,
   "id": "c4ca1dfb-85bb-4014-810e-2fbeed189320",
   "metadata": {},
   "outputs": [],
   "source": [
    "price=data[\"price\"].value_counts()"
   ]
  },
  {
   "cell_type": "code",
   "execution_count": 22,
   "id": "6e1bc7d4-5b11-4ba5-91e9-ed9c79315695",
   "metadata": {},
   "outputs": [
    {
     "data": {
      "text/plain": [
       "Text(0.5, 1.0, 'precio de los autos')"
      ]
     },
     "execution_count": 22,
     "metadata": {},
     "output_type": "execute_result"
    },
    {
     "data": {
      "image/png": "[encoded data removed]",
      "text/plain": [
       "<Figure size 640x480 with 1 Axes>"
      ]
     },
     "metadata": {},
     "output_type": "display_data"
    }
   ],
   "source": [
    "colors=[\"#DDEE01\",\"#CC0101\",\"#FE10D1\",\"#BCC111\"]\n",
    "price.plot(kind=\"bar\",color= colors)\n",
    "plt.xlabel(\"Precio\")\n",
    "plt.ylabel(\"autos\")\n",
    "plt.title(\"precio de los autos\")"
   ]
  },
  {
   "cell_type": "code",
   "execution_count": 23,
   "id": "6406f92e-e20c-47ee-979d-2c3d224343fd",
   "metadata": {},
   "outputs": [
    {
     "data": {
      "text/plain": [
       "array(['low', 'med', 'high'], dtype=object)"
      ]
     },
     "execution_count": 23,
     "metadata": {},
     "output_type": "execute_result"
    }
   ],
   "source": [
    "data[\"safety\"].unique()"
   ]
  },
  {
   "cell_type": "code",
   "execution_count": 24,
   "id": "0e9c96b5-414b-48ec-bf21-3b742f58a0a2",
   "metadata": {},
   "outputs": [
    {
     "data": {
      "text/plain": [
       "low     576\n",
       "med     576\n",
       "high    576\n",
       "Name: safety, dtype: int64"
      ]
     },
     "execution_count": 24,
     "metadata": {},
     "output_type": "execute_result"
    }
   ],
   "source": [
    "data[\"safety\"].value_counts()"
   ]
  },
  {
   "cell_type": "code",
   "execution_count": 25,
   "id": "7735cefa-2d0a-4e83-b330-a26077c61cca",
   "metadata": {},
   "outputs": [],
   "source": [
    "labels=[\"low\",\"med\",\"high\"]"
   ]
  },
  {
   "cell_type": "code",
   "execution_count": 26,
   "id": "1061b719-cb36-43f0-ba65-59fc5a922f9a",
   "metadata": {},
   "outputs": [],
   "source": [
    "size= [576,576,576]\n",
    "colors=[\"cyan\",\"gray\",\"orange\"]\n",
    "explode=[0.1,0,0] #expacio entre cada parte del circulo, se suele despegar el que mas destaca"
   ]
  },
  {
   "cell_type": "code",
   "execution_count": 27,
   "id": "d4b08c30-a806-4939-8eec-29a430f0d7bd",
   "metadata": {},
   "outputs": [
    {
     "data": {
      "image/png": "[encoded data removed]",
      "text/plain": [
       "<Figure size 640x480 with 1 Axes>"
      ]
     },
     "metadata": {},
     "output_type": "display_data"
    }
   ],
   "source": [
    "plt.pie(size,labels=labels,colors=colors,explode=explode,shadow=True,autopct=\"%.2f%%\")\n",
    "plt.title(\"niveles de seguridad\",fontsize=10)\n",
    "plt.axis(\"off\")\n",
    "plt.legend(loc=\"best\") #tambien puede ir al centro \"center\"\n",
    "plt.show()"
   ]
  },
  {
   "cell_type": "markdown",
   "id": "25dd5752-b417-4642-b3db-52b668606177",
   "metadata": {},
   "source": [
    "## Modelo de aprendizaje automatico"
   ]
  },
  {
   "cell_type": "markdown",
   "id": "c907526a-c8d5-489e-84eb-1fd21d6660ae",
   "metadata": {},
   "source": [
    "### Supervisado"
   ]
  },
  {
   "cell_type": "markdown",
   "id": "bd99a850-121a-44c0-97a8-9b4589c9d143",
   "metadata": {},
   "source": [
    "### Arbol de decision\n",
    "Con este conjunto de datos es bueno o no comprar cierto tipo de auto, o saber si a partir de cierto precio o con cierto numero de puertas es algo que nos convenga comprar, si es bueno o si es de plano no comprarlo"
   ]
  },
  {
   "cell_type": "markdown",
   "id": "b3607e4e-33a2-42c1-b405-fb6559f95f93",
   "metadata": {},
   "source": [
    "Se presentan alternativas disponibles para la toma de decisiones, saber si comprar o no un auto"
   ]
  },
  {
   "cell_type": "code",
   "execution_count": 29,
   "id": "6abf258c-fe99-4e82-bd56-8f58a71b5dbe",
   "metadata": {},
   "outputs": [],
   "source": [
    "data.price.replace((\"vhigh\",\"high\",\"med\",\"low\"),(4,3,2,1),inplace = True)\n",
    "data.maintenance_cost.replace((\"vhigh\",\"high\",\"med\",\"low\"),(4,3,2,1),inplace=True)\n",
    "data.Number_doors.replace((\"2\",\"3\",\"4\",\"5more\"),(1,2,3,4),inplace=True)\n",
    "data.Capacity.replace((\"2\",\"4\",\"more\"),(1,2,3),inplace=True)\n",
    "data.Size.replace((\"small\",\"med\",\"big\"),(1,2,3),inplace=True)\n",
    "data.safety.replace((\"low\",\"med\",\"high\"),(1,2,3),inplace=True)"
   ]
  },
  {
   "cell_type": "code",
   "execution_count": 30,
   "id": "e77439fe-e453-4e27-a891-fde5322ba836",
   "metadata": {},
   "outputs": [],
   "source": [
    "data[\"Decision\"].replace((\"unacc\",\"acc\",\"good\",\"vgood\"),(1,2,3,4),inplace=True)"
   ]
  },
  {
   "cell_type": "code",
   "execution_count": 31,
   "id": "6febb7db-c603-4f3e-910a-65ac103f2bac",
   "metadata": {},
   "outputs": [
    {
     "data": {
      "text/html": [
       "<div>\n",
       "<style scoped>\n",
       "    .dataframe tbody tr th:only-of-type {\n",
       "        vertical-align: middle;\n",
       "    }\n",
       "\n",
       "    .dataframe tbody tr th {\n",
       "        vertical-align: top;\n",
       "    }\n",
       "\n",
       "    .dataframe thead th {\n",
       "        text-align: right;\n",
       "    }\n",
       "</style>\n",
       "<table border=\"1\" class=\"dataframe\">\n",
       "  <thead>\n",
       "    <tr style=\"text-align: right;\">\n",
       "      <th></th>\n",
       "      <th>price</th>\n",
       "      <th>maintenance_cost</th>\n",
       "      <th>Number_doors</th>\n",
       "      <th>Capacity</th>\n",
       "      <th>Size</th>\n",
       "      <th>safety</th>\n",
       "      <th>Decision</th>\n",
       "    </tr>\n",
       "  </thead>\n",
       "  <tbody>\n",
       "    <tr>\n",
       "      <th>0</th>\n",
       "      <td>4</td>\n",
       "      <td>4</td>\n",
       "      <td>1</td>\n",
       "      <td>1</td>\n",
       "      <td>1</td>\n",
       "      <td>1</td>\n",
       "      <td>1</td>\n",
       "    </tr>\n",
       "    <tr>\n",
       "      <th>1</th>\n",
       "      <td>4</td>\n",
       "      <td>4</td>\n",
       "      <td>1</td>\n",
       "      <td>1</td>\n",
       "      <td>1</td>\n",
       "      <td>2</td>\n",
       "      <td>1</td>\n",
       "    </tr>\n",
       "    <tr>\n",
       "      <th>2</th>\n",
       "      <td>4</td>\n",
       "      <td>4</td>\n",
       "      <td>1</td>\n",
       "      <td>1</td>\n",
       "      <td>1</td>\n",
       "      <td>3</td>\n",
       "      <td>1</td>\n",
       "    </tr>\n",
       "    <tr>\n",
       "      <th>3</th>\n",
       "      <td>4</td>\n",
       "      <td>4</td>\n",
       "      <td>1</td>\n",
       "      <td>1</td>\n",
       "      <td>2</td>\n",
       "      <td>1</td>\n",
       "      <td>1</td>\n",
       "    </tr>\n",
       "    <tr>\n",
       "      <th>4</th>\n",
       "      <td>4</td>\n",
       "      <td>4</td>\n",
       "      <td>1</td>\n",
       "      <td>1</td>\n",
       "      <td>2</td>\n",
       "      <td>2</td>\n",
       "      <td>1</td>\n",
       "    </tr>\n",
       "  </tbody>\n",
       "</table>\n",
       "</div>"
      ],
      "text/plain": [
       "   price  maintenance_cost  Number_doors  Capacity  Size  safety  Decision\n",
       "0      4                 4             1         1     1       1         1\n",
       "1      4                 4             1         1     1       2         1\n",
       "2      4                 4             1         1     1       3         1\n",
       "3      4                 4             1         1     2       1         1\n",
       "4      4                 4             1         1     2       2         1"
      ]
     },
     "execution_count": 31,
     "metadata": {},
     "output_type": "execute_result"
    }
   ],
   "source": [
    "data.head(5)"
   ]
  },
  {
   "cell_type": "code",
   "execution_count": 32,
   "id": "3ef417a9-5bd3-4f1a-bced-91c9babbf814",
   "metadata": {},
   "outputs": [],
   "source": [
    "# Todos los datos son numericos"
   ]
  },
  {
   "cell_type": "markdown",
   "id": "627d13ec-9ed2-43af-8818-863267f207f0",
   "metadata": {},
   "source": [
    "Recomendacion de division de datos:\n",
    "\n",
    "80% aprendizaje\n",
    "20% pruebas"
   ]
  },
  {
   "cell_type": "code",
   "execution_count": 33,
   "id": "ae40598b-781d-439e-8e57-884c8dc6b623",
   "metadata": {},
   "outputs": [],
   "source": [
    "import numpy as np\n",
    "dataset=data.values\n",
    "x=dataset[:,0:6] #cols con lo que va a aprender\n",
    "y=np.array(dataset[:,6],dtype=\"S6\")"
   ]
  },
  {
   "cell_type": "code",
   "execution_count": 34,
   "id": "3a7052c3-a067-4ddc-817f-4e3d2d461308",
   "metadata": {},
   "outputs": [],
   "source": [
    "from sklearn import tree\n",
    "from sklearn.model_selection import train_test_split, cross_val_score #dividir con lo que vamos a aprender\n",
    "from sklearn import metrics #para que arbol aprenda, la eva"
   ]
  },
  {
   "cell_type": "code",
   "execution_count": 35,
   "id": "e5d3f2cf-0d80-4d63-90f7-c8448da4ffdf",
   "metadata": {},
   "outputs": [],
   "source": [
    "x_train,x_test,y_train,y_test=train_test_split(x,y,test_size=0.2,random_state=0)"
   ]
  },
  {
   "cell_type": "code",
   "execution_count": 36,
   "id": "5cda528b-81e7-4f96-85b5-1d5c9a2dde9a",
   "metadata": {},
   "outputs": [],
   "source": [
    "tr=tree.DecisionTreeClassifier(max_depth=10)"
   ]
  },
  {
   "cell_type": "code",
   "execution_count": 37,
   "id": "53fa31b1-3369-439a-948d-e55c53e31c56",
   "metadata": {},
   "outputs": [
    {
     "data": {
      "text/html": [
       "<style>#sk-container-id-1 {color: black;background-color: white;}#sk-container-id-1 pre{padding: 0;}#sk-container-id-1 div.sk-toggleable {background-color: white;}#sk-container-id-1 label.sk-toggleable__label {cursor: pointer;display: block;width: 100%;margin-bottom: 0;padding: 0.3em;box-sizing: border-box;text-align: center;}#sk-container-id-1 label.sk-toggleable__label-arrow:before {content: \"▸\";float: left;margin-right: 0.25em;color: #696969;}#sk-container-id-1 label.sk-toggleable__label-arrow:hover:before {color: black;}#sk-container-id-1 div.sk-estimator:hover label.sk-toggleable__label-arrow:before {color: black;}#sk-container-id-1 div.sk-toggleable__content {max-height: 0;max-width: 0;overflow: hidden;text-align: left;background-color: #f0f8ff;}#sk-container-id-1 div.sk-toggleable__content pre {margin: 0.2em;color: black;border-radius: 0.25em;background-color: #f0f8ff;}#sk-container-id-1 input.sk-toggleable__control:checked~div.sk-toggleable__content {max-height: 200px;max-width: 100%;overflow: auto;}#sk-container-id-1 input.sk-toggleable__control:checked~label.sk-toggleable__label-arrow:before {content: \"▾\";}#sk-container-id-1 div.sk-estimator input.sk-toggleable__control:checked~label.sk-toggleable__label {background-color: #d4ebff;}#sk-container-id-1 div.sk-label input.sk-toggleable__control:checked~label.sk-toggleable__label {background-color: #d4ebff;}#sk-container-id-1 input.sk-hidden--visually {border: 0;clip: rect(1px 1px 1px 1px);clip: rect(1px, 1px, 1px, 1px);height: 1px;margin: -1px;overflow: hidden;padding: 0;position: absolute;width: 1px;}#sk-container-id-1 div.sk-estimator {font-family: monospace;background-color: #f0f8ff;border: 1px dotted black;border-radius: 0.25em;box-sizing: border-box;margin-bottom: 0.5em;}#sk-container-id-1 div.sk-estimator:hover {background-color: #d4ebff;}#sk-container-id-1 div.sk-parallel-item::after {content: \"\";width: 100%;border-bottom: 1px solid gray;flex-grow: 1;}#sk-container-id-1 div.sk-label:hover label.sk-toggleable__label {background-color: #d4ebff;}#sk-container-id-1 div.sk-serial::before {content: \"\";position: absolute;border-left: 1px solid gray;box-sizing: border-box;top: 0;bottom: 0;left: 50%;z-index: 0;}#sk-container-id-1 div.sk-serial {display: flex;flex-direction: column;align-items: center;background-color: white;padding-right: 0.2em;padding-left: 0.2em;position: relative;}#sk-container-id-1 div.sk-item {position: relative;z-index: 1;}#sk-container-id-1 div.sk-parallel {display: flex;align-items: stretch;justify-content: center;background-color: white;position: relative;}#sk-container-id-1 div.sk-item::before, #sk-container-id-1 div.sk-parallel-item::before {content: \"\";position: absolute;border-left: 1px solid gray;box-sizing: border-box;top: 0;bottom: 0;left: 50%;z-index: -1;}#sk-container-id-1 div.sk-parallel-item {display: flex;flex-direction: column;z-index: 1;position: relative;background-color: white;}#sk-container-id-1 div.sk-parallel-item:first-child::after {align-self: flex-end;width: 50%;}#sk-container-id-1 div.sk-parallel-item:last-child::after {align-self: flex-start;width: 50%;}#sk-container-id-1 div.sk-parallel-item:only-child::after {width: 0;}#sk-container-id-1 div.sk-dashed-wrapped {border: 1px dashed gray;margin: 0 0.4em 0.5em 0.4em;box-sizing: border-box;padding-bottom: 0.4em;background-color: white;}#sk-container-id-1 div.sk-label label {font-family: monospace;font-weight: bold;display: inline-block;line-height: 1.2em;}#sk-container-id-1 div.sk-label-container {text-align: center;}#sk-container-id-1 div.sk-container {/* jupyter's `normalize.less` sets `[hidden] { display: none; }` but bootstrap.min.css set `[hidden] { display: none !important; }` so we also need the `!important` here to be able to override the default hidden behavior on the sphinx rendered scikit-learn.org. See: https://github.com/scikit-learn/scikit-learn/issues/21755 */display: inline-block !important;position: relative;}#sk-container-id-1 div.sk-text-repr-fallback {display: none;}</style><div id=\"sk-container-id-1\" class=\"sk-top-container\"><div class=\"sk-text-repr-fallback\"><pre>DecisionTreeClassifier(max_depth=10)</pre><b>In a Jupyter environment, please rerun this cell to show the HTML representation or trust the notebook. <br />On GitHub, the HTML representation is unable to render, please try loading this page with nbviewer.org.</b></div><div class=\"sk-container\" hidden><div class=\"sk-item\"><div class=\"sk-estimator sk-toggleable\"><input class=\"sk-toggleable__control sk-hidden--visually\" id=\"sk-estimator-id-1\" type=\"checkbox\" checked><label for=\"sk-estimator-id-1\" class=\"sk-toggleable__label sk-toggleable__label-arrow\">DecisionTreeClassifier</label><div class=\"sk-toggleable__content\"><pre>DecisionTreeClassifier(max_depth=10)</pre></div></div></div></div></div>"
      ],
      "text/plain": [
       "DecisionTreeClassifier(max_depth=10)"
      ]
     },
     "execution_count": 37,
     "metadata": {},
     "output_type": "execute_result"
    }
   ],
   "source": [
    "tr.fit(x_train,y_train)"
   ]
  },
  {
   "cell_type": "code",
   "execution_count": 38,
   "id": "ee684266-7388-4793-9e72-125aa82c1ab9",
   "metadata": {},
   "outputs": [
    {
     "data": {
      "text/plain": [
       "array([b'1', b'1', b'1', b'1', b'1', b'3', b'1', b'2', b'3', b'1', b'1',\n",
       "       b'1', b'2', b'1', b'1', b'2', b'1', b'1', b'2', b'1', b'3', b'2',\n",
       "       b'3', b'1', b'1', b'1', b'1', b'1', b'1', b'1', b'3', b'2', b'1',\n",
       "       b'2', b'3', b'1', b'1', b'1', b'1', b'1', b'1', b'1', b'1', b'1',\n",
       "       b'4', b'1', b'1', b'2', b'1', b'1', b'1', b'1', b'1', b'1', b'1',\n",
       "       b'1', b'1', b'1', b'1', b'1', b'2', b'1', b'1', b'1', b'1', b'2',\n",
       "       b'1', b'1', b'1', b'1', b'1', b'2', b'1', b'2', b'3', b'2', b'1',\n",
       "       b'2', b'2', b'1', b'2', b'2', b'2', b'1', b'1', b'1', b'1', b'3',\n",
       "       b'1', b'1', b'1', b'2', b'1', b'1', b'1', b'4', b'1', b'2', b'2',\n",
       "       b'1', b'1', b'1', b'2', b'1', b'4', b'2', b'1', b'2', b'1', b'1',\n",
       "       b'1', b'1', b'1', b'2', b'1', b'3', b'1', b'1', b'1', b'1', b'1',\n",
       "       b'1', b'2', b'1', b'1', b'1', b'1', b'2', b'3', b'1', b'1', b'1',\n",
       "       b'2', b'1', b'1', b'1', b'1', b'1', b'1', b'1', b'1', b'1', b'1',\n",
       "       b'2', b'1', b'1', b'2', b'1', b'2', b'2', b'2', b'2', b'1', b'1',\n",
       "       b'1', b'2', b'1', b'1', b'1', b'1', b'2', b'1', b'1', b'1', b'2',\n",
       "       b'1', b'1', b'1', b'1', b'1', b'1', b'1', b'1', b'1', b'2', b'1',\n",
       "       b'1', b'1', b'1', b'1', b'2', b'2', b'2', b'1', b'2', b'1', b'3',\n",
       "       b'1', b'1', b'1', b'1', b'2', b'1', b'1', b'1', b'2', b'1', b'3',\n",
       "       b'1', b'1', b'1', b'1', b'2', b'1', b'1', b'1', b'1', b'1', b'1',\n",
       "       b'1', b'1', b'2', b'1', b'1', b'1', b'1', b'1', b'2', b'1', b'1',\n",
       "       b'1', b'2', b'1', b'4', b'1', b'1', b'1', b'4', b'1', b'1', b'1',\n",
       "       b'1', b'2', b'1', b'1', b'1', b'1', b'1', b'1', b'1', b'1', b'1',\n",
       "       b'1', b'1', b'3', b'1', b'2', b'1', b'1', b'1', b'1', b'1', b'3',\n",
       "       b'2', b'3', b'2', b'2', b'1', b'1', b'1', b'2', b'1', b'1', b'2',\n",
       "       b'1', b'1', b'4', b'1', b'2', b'1', b'1', b'1', b'2', b'1', b'2',\n",
       "       b'1', b'1', b'1', b'1', b'1', b'1', b'1', b'2', b'1', b'1', b'2',\n",
       "       b'1', b'4', b'3', b'1', b'1', b'1', b'1', b'1', b'1', b'1', b'1',\n",
       "       b'1', b'1', b'2', b'1', b'2', b'2', b'3', b'3', b'1', b'2', b'1',\n",
       "       b'2', b'1', b'3', b'2', b'1', b'1', b'1', b'1', b'1', b'1', b'1',\n",
       "       b'2', b'1', b'1', b'2', b'1', b'2', b'1', b'1', b'1', b'1', b'1',\n",
       "       b'2', b'1', b'3', b'1', b'3', b'1', b'1', b'1', b'4', b'1', b'1',\n",
       "       b'4', b'1', b'2', b'1', b'2'], dtype='|S6')"
      ]
     },
     "execution_count": 38,
     "metadata": {},
     "output_type": "execute_result"
    }
   ],
   "source": [
    "#para saber si esta aprendiendo:\n",
    "y_pred=tr.predict(x_test)\n",
    "y_pred #etiqueta que le asigna al conjunto de datos que corresponde a nuestra clase"
   ]
  },
  {
   "cell_type": "code",
   "execution_count": 39,
   "id": "4c439b1a-9dac-4563-9b81-bf66f508e53e",
   "metadata": {},
   "outputs": [
    {
     "name": "stdout",
     "output_type": "stream",
     "text": [
      "Precision: 0.9740\n"
     ]
    }
   ],
   "source": [
    "#para saber si ha aprendido correctamente:\n",
    "#calcular el score que este cercano al 100\n",
    "#si da 100 algo no esta muy bien con los datos\n",
    "score=tr.score(x_test,y_test)\n",
    "print(\"Precision: %0.4f\" % (score))"
   ]
  },
  {
   "cell_type": "markdown",
   "id": "e1d17bb1-3941-4aff-8672-65b7c1e1d2b2",
   "metadata": {},
   "source": [
    "si esta por arriba del 50% indica que si esta aprendiendo, y asi se crea un arbol de decision."
   ]
  },
  {
   "cell_type": "markdown",
   "id": "5e37acfa-4c59-4141-b970-8b57943b5def",
   "metadata": {},
   "source": [
    "Nota: Tambien se pueden aplicar redes bayesianas, neuronales y algoritmos de clustering"
   ]
  }
 ],
 "metadata": {
  "kernelspec": {
   "display_name": "Python 3 (ipykernel)",
   "language": "python",
   "name": "python3"
  },
  "language_info": {
   "codemirror_mode": {
    "name": "ipython",
    "version": 3
   },
   "file_extension": ".py",
   "mimetype": "text/x-python",
   "name": "python",
   "nbconvert_exporter": "python",
   "pygments_lexer": "ipython3",
   "version": "3.11.2"
  }
 },
 "nbformat": 4,
 "nbformat_minor": 5
}
